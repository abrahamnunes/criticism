{
 "cells": [
  {
   "cell_type": "markdown",
   "metadata": {},
   "source": [
    "# Evaluating Significance of Classifier Performance by Simulating Performance Distributions for Trivial Classifiers"
   ]
  },
  {
   "cell_type": "code",
   "execution_count": 1,
   "metadata": {},
   "outputs": [],
   "source": [
    "from criticism import *\n",
    "import numpy as np\n",
    "import pandas as pd\n",
    "import matplotlib.pyplot as plt \n",
    "from sklearn.datasets import make_classification\n",
    "from sklearn.linear_model import LogisticRegression; \n",
    "import sklearn.metrics as skm\n",
    "from sklearn.model_selection import train_test_split \n",
    "\n",
    "%matplotlib inline"
   ]
  },
  {
   "cell_type": "markdown",
   "metadata": {},
   "source": [
    "We will begin by instantiating a dataset $\\mathcal{D} = (\\mathbf x_i, y_i)_{i=1}^{N}$ consisting of feature vectors $\\mathbf x_i$ and target labels $y_i$. We also split these into training and test sets."
   ]
  },
  {
   "cell_type": "code",
   "execution_count": 2,
   "metadata": {},
   "outputs": [],
   "source": [
    "N = 100\n",
    "X, y = make_classification(n_samples=N)\n",
    "Xtrain, Xtest, ytrain, ytest = train_test_split(X, y)"
   ]
  },
  {
   "cell_type": "markdown",
   "metadata": {},
   "source": [
    "We now train a logistic regression classifier on these data and obtain a set of test set predictions. "
   ]
  },
  {
   "cell_type": "code",
   "execution_count": 3,
   "metadata": {},
   "outputs": [
    {
     "name": "stdout",
     "output_type": "stream",
     "text": [
      "Simple Classification Report\n",
      "    Accuracy: 0.960\n",
      "    F1-Score: 0.966\n",
      "       Kappa: 0.918\n",
      "         MCC: 0.921\n",
      "         PPV: 1.000\n",
      "         NPV: 0.909\n",
      " Sensitivity: 0.933\n",
      " Specificity: 1.000\n"
     ]
    }
   ],
   "source": [
    "lrc = LogisticRegression(solver='lbfgs')\n",
    "lrc.fit(Xtrain, ytrain)\n",
    "ypred = lrc.predict(Xtest)\n",
    "\n",
    "print('Simple Classification Report')\n",
    "print('    Accuracy: %0.3f' %skm.accuracy_score(ytest, ypred))\n",
    "print('    F1-Score: %0.3f' %skm.f1_score(ytest, ypred))\n",
    "print('       Kappa: %0.3f' %skm.cohen_kappa_score(ytest, ypred))\n",
    "print('         MCC: %0.3f' %skm.matthews_corrcoef(ytest, ypred))\n",
    "print('         PPV: %0.3f' %metrics.ppv_score(ytest, ypred))\n",
    "print('         NPV: %0.3f' %metrics.npv_score(ytest, ypred))\n",
    "print(' Sensitivity: %0.3f' %metrics.sensitivity_score(ytest, ypred))\n",
    "print(' Specificity: %0.3f' %metrics.specificity_score(ytest, ypred))"
   ]
  },
  {
   "cell_type": "markdown",
   "metadata": {},
   "source": [
    "...but are these results meaningful or (dare I say) significant?\n",
    "\n",
    "Deriving (accurate) standard errors and null distributions for these statistics can be difficult, so another approach is to simulate the performance of trivial classifiers and determine where the observed result lies in relation to this \"simulated null\" distribution. In this notebook, we will walk the reader through our approach to this method."
   ]
  },
  {
   "cell_type": "markdown",
   "metadata": {},
   "source": [
    "## Simulation of Trivial Classifier Performance\n",
    "\n",
    "The central element in evaluation of classifier performance is the contingency table: \n",
    "\n",
    "| Confusion Mtx | $\\hat{y}=1$            | $\\hat{y}=0$        |\n",
    "|---------------|------------------------|--------------------|\n",
    "| $y=1$         | $\\alpha \\beta $        | $\\alpha (1-\\beta)$ |\n",
    "| $y=0$         | $(1-\\alpha)(1-\\gamma)$ | $(1-\\alpha)\\gamma$ |\n",
    "\n",
    "where $\\alpha$ is the proportion of the test sample where $y=1$, $\\beta$ is the classifier's sensitivity (the probability that when $y=1$ that the classifier will agree with the true label, and $\\gamma$ is the classifier's specificity (the probability that when $y=0$ the classifier will agree with the true label). \n",
    "\n",
    "Thus, we have the following relationships \n",
    "\n",
    "- p(True Positive) = $P_{TP} = \\alpha \\beta$\n",
    "- p(False Negative) = $P_{FN}=\\alpha (1-\\beta)$\n",
    "- p(True Negative) = $P_{TN}=(1-\\alpha) \\gamma$\n",
    "- p(False Positive) = $P_{FP}=(1-\\alpha)(1-\\gamma)$\n",
    "\n",
    "from which we can compute a number of classification metrics. These are as follows: \n",
    "\n",
    "- $Accuracy(\\alpha, \\beta, \\gamma) = P_{TP} + P_{TN}$\n",
    "- $PPV(\\alpha, \\beta, \\gamma) = \\frac{P_{TP}}{P_{TP} + P_{FP}}$\n",
    "- $NPV(\\alpha, \\beta, \\gamma) = \\frac{P_{TN}}{P_{TN} + P_{FN}}$\n",
    "- $F_1(\\alpha, \\beta, \\gamma) = 2\\frac{PPV(\\alpha, \\beta, \\gamma) \\beta}{PPV(\\alpha, \\beta, \\gamma) + \\beta}$\n",
    "\n",
    "We can also compute Cohen's Kappa by first calculating the chance agreement probability:\n",
    "- $PChance(\\alpha, \\beta, \\gamma) = (P_{TP}+ P_{FP})(P_{TP}+ P_{FN}) + (P_{TN}+ P_{FP})(P_{TN}+ P_{FN})$\n",
    "- $Kappa(\\alpha, \\beta, \\gamma) = \\frac{Accuracy(\\alpha, \\beta, \\gamma) - PChance(\\alpha, \\beta, \\gamma)}{1-PChance(\\alpha, \\beta, \\gamma)}$\n",
    "\n",
    "The Matthews Correlation Coefficient (MCC) can also be easily computed: \n",
    "- $MCC(\\alpha, \\beta, \\gamma) = \\frac{P_{TP}P_{TN} - P_{FP}P_{FN}}{\\sqrt{(P_{TP}+ P_{FP})(P_{TP}+ P_{FN})(P_{TN}+ P_{FP})(P_{TN}+ P_{FN})}}$\n",
    "\n",
    "### Simulation Steps \n",
    "\n",
    "Given a dataset with $N$ samples of data $\\mathcal{D} = (\\mathbf x_i, y_i)_{i=1}^{N}$, we can compute the baseline probability of the positive class as \n",
    "\n",
    "$$\n",
    "\\alpha = \\frac{1}{N} \\sum_{i=1}^N \\mathbb{I}[y_i = 1],\n",
    "$$\n",
    "\n",
    "where $\\mathbb I[\\cdot]$ is an indicator function that evaluates to 1 if the argument is true. Given only $\\alpha$ and the number of subjects in the test set, and recalling that the parameters of a beta distribution are \"pseudocounts,\" we can specify prior distributions on the sensitivity and specificity of a trivial classifier for data with the given sample size: \n",
    "\n",
    "\\begin{aligned}\n",
    "    \\beta & \\sim \\mathrm{Beta}(\\frac{1}{2}\\alpha N, \\frac{1}{2}(1-\\alpha) N) \\\\\n",
    "    \\gamma & \\sim \\mathrm{Beta}(\\frac{1}{2}(1-\\alpha) N, \\frac{1}{2} \\alpha N)\n",
    "\\end{aligned}\n",
    "\n",
    "which is to say that the expected true positive rate is 1/2 of the baseline positive rate (the other half will be false positives), and the true negative rate will be 1/2 of the baseline negative class rate (the other half will be false negatives).\n",
    "\n",
    "We can then drawn $M$ samples from these distributions (in the `criticism` package the default number of samples is set to 10,000), and compute distributions of the respective statistics.\n",
    "\n",
    "## Evaluating the Classifier's Performance\n",
    "\n",
    "Before we look further under the hood, let's evaluate our classifier's performance. \n",
    "\n",
    "We begin by instantiating the `SimulationScorer` object for the various scoring statistics available. "
   ]
  },
  {
   "cell_type": "code",
   "execution_count": 4,
   "metadata": {},
   "outputs": [
    {
     "name": "stdout",
     "output_type": "stream",
     "text": [
      "Available Scoring Metrics for Simulation-Based Criticism\n",
      "\taccuracy\n",
      "\tf1_score\n",
      "\tcohen_kappa_score\n",
      "\tmatthews_corrcoef\n",
      "\tsensitivity\n",
      "\tspecificity\n",
      "\tppv\n",
      "\tnpv\n"
     ]
    }
   ],
   "source": [
    "print('Available Scoring Metrics for Simulation-Based Criticism')\n",
    "for s in metrics.metricdict.keys():\n",
    "    print('\\t%s' %s)"
   ]
  },
  {
   "cell_type": "code",
   "execution_count": 5,
   "metadata": {},
   "outputs": [],
   "source": [
    "scorers = [SimulationScorer(metric, nsamples=10000) for metric in metrics.metricdict.keys()]"
   ]
  },
  {
   "cell_type": "markdown",
   "metadata": {},
   "source": [
    "We can then compute the simulation-based comparisions: "
   ]
  },
  {
   "cell_type": "code",
   "execution_count": 6,
   "metadata": {},
   "outputs": [
    {
     "data": {
      "text/plain": [
       "array([[9.60000000e-01, 0.00000000e+00],\n",
       "       [9.65517241e-01, 0.00000000e+00],\n",
       "       [9.18032787e-01, 0.00000000e+00],\n",
       "       [9.21132373e-01, 0.00000000e+00],\n",
       "       [9.33333333e-01, 7.00000000e-04],\n",
       "       [1.00000000e+00, 0.00000000e+00],\n",
       "       [1.00000000e+00, 0.00000000e+00],\n",
       "       [9.09090909e-01, 1.00000000e-04]])"
      ]
     },
     "execution_count": 6,
     "metadata": {},
     "output_type": "execute_result"
    }
   ],
   "source": [
    "scores = np.stack([Scorer(ytest, ypred) for Scorer in scorers])\n",
    "scores"
   ]
  },
  {
   "cell_type": "markdown",
   "metadata": {},
   "source": [
    "We can concatenate the summary reports from each scorer, too, just to make things look nicer."
   ]
  },
  {
   "cell_type": "code",
   "execution_count": 7,
   "metadata": {},
   "outputs": [
    {
     "data": {
      "text/html": [
       "<div>\n",
       "<style scoped>\n",
       "    .dataframe tbody tr th:only-of-type {\n",
       "        vertical-align: middle;\n",
       "    }\n",
       "\n",
       "    .dataframe tbody tr th {\n",
       "        vertical-align: top;\n",
       "    }\n",
       "\n",
       "    .dataframe thead th {\n",
       "        text-align: right;\n",
       "    }\n",
       "</style>\n",
       "<table border=\"1\" class=\"dataframe\">\n",
       "  <thead>\n",
       "    <tr style=\"text-align: right;\">\n",
       "      <th></th>\n",
       "      <th>Value</th>\n",
       "      <th>P(t&gt;Value)</th>\n",
       "      <th>Null Median</th>\n",
       "      <th>Null CrI</th>\n",
       "      <th>N</th>\n",
       "      <th>P(y=1)</th>\n",
       "      <th>NSamples</th>\n",
       "    </tr>\n",
       "  </thead>\n",
       "  <tbody>\n",
       "    <tr>\n",
       "      <th>Accuracy</th>\n",
       "      <td>0.960000</td>\n",
       "      <td>0.0000</td>\n",
       "      <td>0.521941</td>\n",
       "      <td>(0.327, 0.7)</td>\n",
       "      <td>25</td>\n",
       "      <td>0.6</td>\n",
       "      <td>10000</td>\n",
       "    </tr>\n",
       "    <tr>\n",
       "      <th>F1</th>\n",
       "      <td>0.965517</td>\n",
       "      <td>0.0000</td>\n",
       "      <td>0.605002</td>\n",
       "      <td>(0.381, 0.767)</td>\n",
       "      <td>25</td>\n",
       "      <td>0.6</td>\n",
       "      <td>10000</td>\n",
       "    </tr>\n",
       "    <tr>\n",
       "      <th>Kappa</th>\n",
       "      <td>0.918033</td>\n",
       "      <td>0.0000</td>\n",
       "      <td>-0.001249</td>\n",
       "      <td>(-0.363, 0.369)</td>\n",
       "      <td>25</td>\n",
       "      <td>0.6</td>\n",
       "      <td>10000</td>\n",
       "    </tr>\n",
       "    <tr>\n",
       "      <th>MCC</th>\n",
       "      <td>0.921132</td>\n",
       "      <td>0.0000</td>\n",
       "      <td>0.002863</td>\n",
       "      <td>(-0.37, 0.376)</td>\n",
       "      <td>25</td>\n",
       "      <td>0.6</td>\n",
       "      <td>10000</td>\n",
       "    </tr>\n",
       "    <tr>\n",
       "      <th>Sensitivity</th>\n",
       "      <td>0.933333</td>\n",
       "      <td>0.0007</td>\n",
       "      <td>0.608434</td>\n",
       "      <td>(0.332, 0.843)</td>\n",
       "      <td>25</td>\n",
       "      <td>0.6</td>\n",
       "      <td>10000</td>\n",
       "    </tr>\n",
       "    <tr>\n",
       "      <th>Specificity</th>\n",
       "      <td>1.000000</td>\n",
       "      <td>0.0000</td>\n",
       "      <td>0.392964</td>\n",
       "      <td>(0.159, 0.67)</td>\n",
       "      <td>25</td>\n",
       "      <td>0.6</td>\n",
       "      <td>10000</td>\n",
       "    </tr>\n",
       "    <tr>\n",
       "      <th>PPV</th>\n",
       "      <td>1.000000</td>\n",
       "      <td>0.0000</td>\n",
       "      <td>0.600519</td>\n",
       "      <td>(0.429, 0.75)</td>\n",
       "      <td>25</td>\n",
       "      <td>0.6</td>\n",
       "      <td>10000</td>\n",
       "    </tr>\n",
       "    <tr>\n",
       "      <th>NPV</th>\n",
       "      <td>0.909091</td>\n",
       "      <td>0.0001</td>\n",
       "      <td>0.398891</td>\n",
       "      <td>(0.184, 0.656)</td>\n",
       "      <td>25</td>\n",
       "      <td>0.6</td>\n",
       "      <td>10000</td>\n",
       "    </tr>\n",
       "  </tbody>\n",
       "</table>\n",
       "</div>"
      ],
      "text/plain": [
       "                Value  P(t>Value)  Null Median         Null CrI   N  P(y=1)  \\\n",
       "Accuracy     0.960000      0.0000     0.521941     (0.327, 0.7)  25     0.6   \n",
       "F1           0.965517      0.0000     0.605002   (0.381, 0.767)  25     0.6   \n",
       "Kappa        0.918033      0.0000    -0.001249  (-0.363, 0.369)  25     0.6   \n",
       "MCC          0.921132      0.0000     0.002863   (-0.37, 0.376)  25     0.6   \n",
       "Sensitivity  0.933333      0.0007     0.608434   (0.332, 0.843)  25     0.6   \n",
       "Specificity  1.000000      0.0000     0.392964    (0.159, 0.67)  25     0.6   \n",
       "PPV          1.000000      0.0000     0.600519    (0.429, 0.75)  25     0.6   \n",
       "NPV          0.909091      0.0001     0.398891   (0.184, 0.656)  25     0.6   \n",
       "\n",
       "             NSamples  \n",
       "Accuracy        10000  \n",
       "F1              10000  \n",
       "Kappa           10000  \n",
       "MCC             10000  \n",
       "Sensitivity     10000  \n",
       "Specificity     10000  \n",
       "PPV             10000  \n",
       "NPV             10000  "
      ]
     },
     "execution_count": 7,
     "metadata": {},
     "output_type": "execute_result"
    }
   ],
   "source": [
    "results = pd.concat([Scorer.summary() for Scorer in scorers], ignore_index=False)\n",
    "results"
   ]
  },
  {
   "cell_type": "markdown",
   "metadata": {},
   "source": [
    "In the above table, $P(t>Value)$ is the proportion of all samples from the $M=NSamples$ draws from the simulation that exceeded the true value observed in the data (denoted \"Value\"). The \"Null Median\" column refers to the median of the samples from the trivial classifier's \"Null\" distribution. The \"Null CrI\" is the 95% *credible* interval for the samples from the simulated Null distribution. The $N$ column is the size of the testing set, and $P(y=1)$ is the probability of the positive class at baseline in the test set. We can see that our classifier generally does better than would be expected by chance alone. However, let's make some plots to show this a bit more."
   ]
  },
  {
   "cell_type": "code",
   "execution_count": 17,
   "metadata": {},
   "outputs": [
    {
     "data": {
      "image/png": "[encoded data removed]",
      "text/plain": [
       "<Figure size 720x360 with 8 Axes>"
      ]
     },
     "metadata": {},
     "output_type": "display_data"
    }
   ],
   "source": [
    "indices = np.stack(np.array_split(np.arange(8), 2))\n",
    "fig, ax = plt.subplots(nrows=2, ncols=4, figsize=(10, 5))\n",
    "for i in range(8):\n",
    "    i_, j_ = np.argwhere(np.equal(indices, i))[0]\n",
    "    ax[i_, j_].set_title(scorers[i].stat_name)\n",
    "    ax[i_, j_].set_xlabel('Statistic Value')\n",
    "    ax[i_, j_].set_xlabel('Count')\n",
    "    ax[i_, j_].hist(scorers[i].null_samples_, bins=100, alpha=0.4, facecolor='k')\n",
    "    ax[i_, j_].axvline(x=scorers[i].score_, c='r')\n",
    "plt.tight_layout()"
   ]
  }
 ],
 "metadata": {
  "kernelspec": {
   "display_name": "Python 3",
   "language": "python",
   "name": "python3"
  },
  "language_info": {
   "codemirror_mode": {
    "name": "ipython",
    "version": 3
   },
   "file_extension": ".py",
   "mimetype": "text/x-python",
   "name": "python",
   "nbconvert_exporter": "python",
   "pygments_lexer": "ipython3",
   "version": "3.6.5"
  }
 },
 "nbformat": 4,
 "nbformat_minor": 2
}
